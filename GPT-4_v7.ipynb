{
 "cells": [
  {
   "cell_type": "markdown",
   "metadata": {},
   "source": [
    "## 구글 드라이브 파일 다운로드"
   ]
  },
  {
   "cell_type": "code",
   "execution_count": null,
   "metadata": {},
   "outputs": [],
   "source": [
    "!pip install gdown"
   ]
  },
  {
   "cell_type": "code",
   "execution_count": null,
   "metadata": {},
   "outputs": [],
   "source": [
    "!gdown --id 14Wpnt6DPX93rtcH0RsvFZ3eFgtoA1K8K\n",
    "!gdown --id 1AMiOTLuAqRgtZ624TfTHwW7fSSS5GbCh\n",
    "!gdown --id 1CeRbGPXPm9RCsFe13eyoBe0N-wKw2DLg"
   ]
  },
  {
   "cell_type": "markdown",
   "metadata": {},
   "source": [
    "## 파일 불러오기"
   ]
  },
  {
   "cell_type": "code",
   "execution_count": null,
   "metadata": {},
   "outputs": [],
   "source": [
    "import pandas as pd\n",
    "\n",
    "train_df = pd.read_csv('/kaggle/working/clean_train.csv')\n",
    "test_df = pd.read_csv('/kaggle/working/clean_test.csv')"
   ]
  },
  {
   "cell_type": "markdown",
   "metadata": {},
   "source": [
    "## 전처리"
   ]
  },
  {
   "cell_type": "code",
   "execution_count": null,
   "metadata": {},
   "outputs": [],
   "source": [
    "# import re\n",
    "# import string\n",
    "# import os\n",
    "# import nltk\n",
    "# from nltk.corpus import stopwords\n",
    "# from nltk.stem import PorterStemmer, WordNetLemmatizer\n",
    "# import pandas as pd\n",
    "\n",
    "# !unzip /root/nltk_data/corpora/wordnet.zip -d /root/nltk_data/corpora/\n",
    "\n",
    "# nltk.download('stopwords')\n",
    "# nltk.download('wordnet')\n",
    "\n",
    "# stop_words = set(stopwords.words('english'))\n",
    "# ps = PorterStemmer()\n",
    "# lemmatizer = WordNetLemmatizer()\n",
    "\n",
    "# def preprocess_text(text):\n",
    "#     # 특수 문자 제거\n",
    "#     text = re.sub(f\"[{string.punctuation}]\", \" \", text)\n",
    "    \n",
    "#     # 소문자로 변환\n",
    "#     text = text.lower()\n",
    "    \n",
    "#     # stopwords 제거\n",
    "#     words = [word for word in text.split() if word not in stop_words]\n",
    "    \n",
    "#     # stemming\n",
    "#     words = [ps.stem(word) for word in words]\n",
    "    \n",
    "#     # lemmatization\n",
    "#     words = [lemmatizer.lemmatize(word) for word in words]\n",
    "    \n",
    "#     return \" \".join(words)\n",
    "\n",
    "# train_df[\"preprocessed_text\"] = train_df[\"text\"].apply(preprocess_text)\n",
    "# test_df[\"preprocessed_text\"] = test_df[\"text\"].apply(preprocess_text)\n",
    "\n",
    "# # Save preprocessed text to CSV files\n",
    "# train_df.to_csv('clean_train.csv', index=False)\n",
    "# test_df.to_csv('clean_test.csv', index=False)"
   ]
  },
  {
   "cell_type": "markdown",
   "metadata": {},
   "source": [
    "# Dataset 클래스"
   ]
  },
  {
   "cell_type": "code",
   "execution_count": null,
   "metadata": {},
   "outputs": [],
   "source": [
    "!pip install transformers"
   ]
  },
  {
   "cell_type": "code",
   "execution_count": null,
   "metadata": {},
   "outputs": [],
   "source": [
    "from torch.utils.data import Dataset\n",
    "from transformers import BertTokenizer\n",
    "\n",
    "class NewsDataset(Dataset):\n",
    "    def __init__(self, dataframe, tokenizer, max_length=512, is_test=False):\n",
    "        self.dataframe = dataframe\n",
    "        self.tokenizer = tokenizer\n",
    "        self.max_length = max_length\n",
    "        self.is_test = is_test\n",
    "        self.encoded_dict = {}\n",
    "        \n",
    "    def __len__(self):\n",
    "        return len(self.dataframe)\n",
    "    \n",
    "    def __getitem__(self, idx):\n",
    "        if idx not in self.encoded_dict:\n",
    "            text = self.dataframe.loc[idx, \"preprocessed_text\"]\n",
    "            self.encoded_dict[idx] = self.tokenizer.encode_plus(\n",
    "                text,\n",
    "                add_special_tokens=True,\n",
    "                max_length=self.max_length,\n",
    "                padding='max_length',\n",
    "                truncation=True,\n",
    "                return_tensors='pt',\n",
    "                return_attention_mask=True\n",
    "            )\n",
    "            \n",
    "        item = {\n",
    "            'input_ids': self.encoded_dict[idx]['input_ids'].squeeze(0),\n",
    "            'attention_mask': self.encoded_dict[idx]['attention_mask'].squeeze(0),\n",
    "            'input_text': self.dataframe.loc[idx, 'text'],  # Add the original text\n",
    "            'index': idx  # Add the index\n",
    "        }\n",
    "        \n",
    "        if not self.is_test:\n",
    "            item['labels'] = self.dataframe.loc[idx, 'label']\n",
    "            \n",
    "        return item\n"
   ]
  },
  {
   "cell_type": "markdown",
   "metadata": {},
   "source": [
    "## Dataset, DataLoader"
   ]
  },
  {
   "cell_type": "code",
   "execution_count": null,
   "metadata": {},
   "outputs": [],
   "source": [
    "import torch\n",
    "from torch.utils.data import DataLoader\n",
    "from transformers import BertTokenizer\n",
    "from sklearn.model_selection import train_test_split\n",
    "\n",
    "import random\n",
    "import numpy as np\n",
    "\n",
    "# Set random seeds for reproducibility\n",
    "random_seed = 42\n",
    "random.seed(random_seed)\n",
    "np.random.seed(random_seed)\n",
    "torch.manual_seed(random_seed)\n",
    "if torch.cuda.is_available():\n",
    "    torch.cuda.manual_seed_all(random_seed)\n",
    "\n",
    "# Load tokenizer\n",
    "tokenizer = BertTokenizer.from_pretrained('bert-base-uncased')  # Changed to bert-base-uncased\n",
    "\n",
    "# Create the datasets\n",
    "train_data, val_data = train_test_split(train_df, test_size=0.2, stratify=train_df['label'], random_state=random_seed)\n",
    "\n",
    "# Reset the index of the new dataframes\n",
    "train_data = train_data.reset_index(drop=True)\n",
    "val_data = val_data.reset_index(drop=True)\n",
    "\n",
    "train_dataset = NewsDataset(train_data, tokenizer)\n",
    "valid_dataset = NewsDataset(val_data, tokenizer)\n",
    "test_dataset = NewsDataset(test_df, tokenizer, is_test=True)\n",
    "\n",
    "# Create DataLoaders\n",
    "train_dataloader = DataLoader(train_dataset, batch_size=16, shuffle=True)  # Changed batch_size to 16\n",
    "valid_dataloader = DataLoader(valid_dataset, batch_size=16, shuffle=False)  # Changed batch_size to 16\n",
    "test_dataloader = DataLoader(test_dataset, batch_size=16, shuffle=False)  # Changed batch_size to 16\n"
   ]
  },
  {
   "cell_type": "markdown",
   "metadata": {},
   "source": [
    "## Model"
   ]
  },
  {
   "cell_type": "code",
   "execution_count": null,
   "metadata": {},
   "outputs": [],
   "source": [
    "from transformers import BertForSequenceClassification\n",
    "\n",
    "model = BertForSequenceClassification.from_pretrained('bert-base-uncased', num_labels=8)  # Changed to bert-base-uncased\n"
   ]
  },
  {
   "cell_type": "markdown",
   "metadata": {},
   "source": [
    "## criterion, optimizer, metric"
   ]
  },
  {
   "cell_type": "code",
   "execution_count": null,
   "metadata": {},
   "outputs": [],
   "source": [
    "from transformers import AdamW\n",
    "from torch import nn\n",
    "from sklearn.metrics import f1_score\n",
    "\n",
    "# Criterion\n",
    "criterion = nn.CrossEntropyLoss()\n",
    "\n",
    "# Optimizer\n",
    "optimizer = AdamW(model.parameters(), lr=1e-5, weight_decay=2e-2)\n",
    "\n",
    "# Metric\n",
    "def macro_f1_score(true_labels, predicted_labels):\n",
    "    return f1_score(true_labels, predicted_labels, average='macro')\n"
   ]
  },
  {
   "cell_type": "markdown",
   "metadata": {},
   "source": [
    "## Train loop"
   ]
  },
  {
   "cell_type": "code",
   "execution_count": null,
   "metadata": {},
   "outputs": [],
   "source": [
    "import csv\n",
    "import wandb\n",
    "import tqdm"
   ]
  },
  {
   "cell_type": "code",
   "execution_count": null,
   "metadata": {},
   "outputs": [],
   "source": [
    "import torch\n",
    "import csv\n",
    "from kaggle_secrets import UserSecretsClient\n",
    "import io\n",
    "import os\n",
    "\n",
    "# Set random seeds\n",
    "random_seed = 42\n",
    "torch.manual_seed(random_seed)\n",
    "\n",
    "# Wandb login\n",
    "user_secrets = UserSecretsClient()\n",
    "secret_value_0 = user_secrets.get_secret(\"wandb_key\")\n",
    "wandb.login(key=secret_value_0)\n",
    "os.environ[\"WANDB_SILENT\"] = \"true\"\n",
    "wandb.init(project='Dacon_GPT', name='bert-base-uncased_accumulation')\n",
    "\n",
    "# Send model and hyperparameters to wandb\n",
    "wandb.watch(model, log=\"all\", log_freq=10)\n",
    "wandb.config.epochs = 3\n",
    "wandb.config.lr = 1e-5  # Changed lr value\n",
    "wandb.config.weight_decay = 2e-2\n",
    "wandb.config.batch_size = 16\n",
    "\n",
    "# Move the model to GPU if available\n",
    "device = torch.device('cuda' if torch.cuda.is_available() else 'cpu')\n",
    "model.to(device)\n",
    "\n",
    "# Define the number of gradient accumulation steps\n",
    "gradient_accumulation_steps = 4  # Changed gradient_accumulation_steps to 4"
   ]
  },
  {
   "cell_type": "code",
   "execution_count": null,
   "metadata": {},
   "outputs": [],
   "source": [
    "# Train and validation loop\n",
    "for epoch in range(3):\n",
    "    # Train loop\n",
    "    model.train()\n",
    "    train_loss = 0.0\n",
    "    accumulation_steps = 0  # Initialize the accumulation step counter\n",
    "    optimizer.zero_grad()  # Reset gradients tensors\n",
    "    with tqdm.tqdm(train_dataloader, desc=f\"Epoch {epoch+1}, Train\", leave=False) as progress_bar:\n",
    "        for batch in progress_bar:\n",
    "            input_ids, attention_mask, labels = batch['input_ids'].to(device), batch['attention_mask'].to(device), batch['labels'].to(device)\n",
    "            outputs = model(input_ids, attention_mask=attention_mask)\n",
    "            loss = criterion(outputs.logits, labels)\n",
    "            loss = loss / gradient_accumulation_steps  # Normalize our loss (if averaged)\n",
    "            loss.backward()\n",
    "            \n",
    "            accumulation_steps += 1\n",
    "            \n",
    "            if accumulation_steps % gradient_accumulation_steps == 0: # Wait for several backward steps\n",
    "                optimizer.step()                            # Now we can do an optimizer step\n",
    "                optimizer.zero_grad()                       # Reset gradients tensors\n",
    "                accumulation_steps = 0\n",
    "            \n",
    "            train_loss += loss.item()\n",
    "\n",
    "            progress_bar.set_postfix({'loss': train_loss / ((len(train_dataset) * gradient_accumulation_steps) // wandb.config.batch_size)})\n",
    "\n",
    "    wandb.log({'train_loss': train_loss / (len(train_dataloader) // gradient_accumulation_steps)})\n",
    "\n",
    "    # Validation loop\n",
    "    model.eval()\n",
    "    valid_loss = 0.0\n",
    "    validation_results = []  # Initialize an empty list to store validation results\n",
    "    with torch.no_grad(), tqdm.tqdm(valid_dataloader, desc=f\"Epoch {epoch+1}, Valid\", leave=False) as progress_bar:\n",
    "        for batch in progress_bar:\n",
    "            input_ids, attention_mask, labels = batch['input_ids'].to(device), batch['attention_mask'].to(device), batch['labels'].to(device)\n",
    "            input_text, index = batch['input_text'], batch['index']\n",
    "            outputs = model(input_ids, attention_mask=attention_mask)\n",
    "            loss = criterion(outputs.logits, labels)\n",
    "            valid_loss += loss.item()\n",
    "\n",
    "            progress_bar.set_postfix({'loss': valid_loss / (len(valid_dataloader))})\n",
    "            \n",
    "            true_labels = labels.cpu().numpy()\n",
    "            predicted_labels = torch.argmax(outputs.logits, dim=1).cpu().numpy()\n",
    "            \n",
    "            # Store the validation results (text, index, predicted_labels, true_labels)\n",
    "            for text, idx, pred_label, true_label in zip(input_text, index, predicted_labels, true_labels):\n",
    "                validation_results.append((text, idx, pred_label, true_label))\n",
    "\n",
    "    wandb.log({'valid_loss': valid_loss / len(valid_dataloader)})\n",
    "\n",
    "    valid_f1 = macro_f1_score([result[3] for result in validation_results], [result[2] for result in validation_results])\n",
    "    wandb.log({'valid_f1': valid_f1})\n",
    "    \n",
    "    print(f\"Epoch {epoch + 1}, Train Loss: {train_loss / (len(train_dataloader) // gradient_accumulation_steps)}, Valid Loss: {valid_loss / len(valid_dataloader)}, Valid Macro F1: {valid_f1}\")\n"
   ]
  },
  {
   "cell_type": "markdown",
   "metadata": {},
   "source": [
    "### validation.csv"
   ]
  },
  {
   "cell_type": "code",
   "execution_count": null,
   "metadata": {},
   "outputs": [],
   "source": [
    "# Save the validation results to a CSV file\n",
    "with open('validation_results.csv', 'w', newline='') as csvfile:\n",
    "    csv_writer = csv.writer(csvfile)\n",
    "    csv_writer.writerow(['text', 'index', 'predicted_label', 'true_label'])\n",
    "    for result in validation_results:\n",
    "        csv_writer.writerow(result)\n"
   ]
  },
  {
   "cell_type": "markdown",
   "metadata": {},
   "source": [
    "## 추론"
   ]
  },
  {
   "cell_type": "code",
   "execution_count": null,
   "metadata": {},
   "outputs": [],
   "source": [
    "# Test loop\n",
    "model.eval()\n",
    "test_results = []  # Initialize an empty list to store test results\n",
    "with torch.no_grad():\n",
    "    for batch in tqdm.tqdm(test_dataloader, desc=\"Test\", leave=False):\n",
    "        input_ids, attention_mask = batch['input_ids'].to(device), batch['attention_mask'].to(device)\n",
    "        outputs = model(input_ids, attention_mask=attention_mask)\n",
    "        predicted_labels = torch.argmax(outputs.logits, dim=1).cpu().tolist()\n",
    "        test_results.extend(predicted_labels)\n",
    "\n",
    "# Load the sample submission file\n",
    "submission_df = pd.read_csv('/kaggle/working/sample_submission.csv')\n",
    "\n",
    "# Overwrite the label column with the test_results\n",
    "submission_df['label'] = test_results\n",
    "\n",
    "# Save the updated submission file to a CSV file\n",
    "submission_df.to_csv('submission.csv', index=False)\n"
   ]
  }
 ],
 "metadata": {
  "kernelspec": {
   "display_name": "Python 3.9.12 ('base')",
   "language": "python",
   "name": "python3"
  },
  "language_info": {
   "name": "python",
   "version": "3.9.12"
  },
  "orig_nbformat": 4,
  "vscode": {
   "interpreter": {
    "hash": "7fecef7fb14ad1d71e869da5296badaba2a50d2b864b0443ebcc6afac654c29b"
   }
  }
 },
 "nbformat": 4,
 "nbformat_minor": 2
}
