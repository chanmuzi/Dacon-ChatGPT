{
 "cells": [
  {
   "cell_type": "markdown",
   "metadata": {},
   "source": [
    "## Load CSV"
   ]
  },
  {
   "cell_type": "code",
   "execution_count": null,
   "metadata": {},
   "outputs": [],
   "source": [
    "import pandas as pd\n",
    "from transformers import BertTokenizer\n",
    "import torch\n",
    "from torch.utils.data import Dataset, DataLoader, random_split\n",
    "\n",
    "train_file = 'data/train.csv'\n",
    "test_file = 'data/test.csv'\n",
    "sample_file = 'data/sample.csv'\n",
    "\n",
    "train_df = pd.read_csv(train_file)\n",
    "test_df = pd.read_csv(test_file)\n",
    "sample_df = pd.read_csv(sample_file)\n",
    "\n",
    "train_df['text'] = train_df['text'].apply(str)\n",
    "test_df['text'] = test_df['text'].apply(str)\n",
    "sample_df = pd.read_csv('sample.csv')"
   ]
  },
  {
   "cell_type": "markdown",
   "metadata": {},
   "source": [
    "## Dataset"
   ]
  },
  {
   "cell_type": "code",
   "execution_count": null,
   "metadata": {},
   "outputs": [],
   "source": [
    "class CustomDataset(torch.utils.data.Dataset):\n",
    "  def __init__(self, df, tokenizer):\n",
    "    self.tokenizer = tokenizer\n",
    "    self.data = df\n",
    "  \n",
    "  def __len__(self):\n",
    "    return len(self.data)\n",
    "  \n",
    "  def __getitem__(self, index):\n",
    "    text = self.data['text'][index]\n",
    "    label = self.data['label'][index] if 'label' in self.data.columns else None\n",
    "\n",
    "    # Tokenize the text\n",
    "    encoded_dict = self.tokenizer.encode_plus(text, return_tensors='pt', padding='max_length', truncation=True, max_length=512)\n",
    "    input_ids = encoded_dict['input_ids'][0]\n",
    "    attention_mask = encoded_dict['attention_mask'][0]\n",
    "    labels = encoded_dict['labels'] if 'labels' in encoded_dict else None\n",
    "\n",
    "    return {'input_ids': input_ids, 'attention_mask': attention_mask, 'labels': labels}"
   ]
  }
 ],
 "metadata": {
  "language_info": {
   "name": "python"
  },
  "orig_nbformat": 4
 },
 "nbformat": 4,
 "nbformat_minor": 2
}
