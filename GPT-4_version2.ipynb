{
 "cells": [
  {
   "cell_type": "markdown",
   "metadata": {},
   "source": [
    "## 데이터 불러오기"
   ]
  },
  {
   "cell_type": "code",
   "execution_count": null,
   "metadata": {},
   "outputs": [],
   "source": [
    "import pandas as pd\n",
    "\n",
    "train_df = pd.read_csv('data/train.csv')\n",
    "test_df = pd.read_csv('data/test.csv')"
   ]
  },
  {
   "cell_type": "markdown",
   "metadata": {},
   "source": [
    "## 데이터 전처리"
   ]
  },
  {
   "cell_type": "code",
   "execution_count": null,
   "metadata": {},
   "outputs": [],
   "source": [
    "import re\n",
    "import string\n",
    "import nltk\n",
    "from nltk.corpus import stopwords\n",
    "\n",
    "nltk.download('stopwords')\n",
    "stop_words = set(stopwords.words('english'))\n",
    "\n",
    "def preprocess_text(text):\n",
    "    # 특수 문자 제거\n",
    "    text = re.sub(f\"[{string.punctuation}]\", \" \", text)\n",
    "    \n",
    "    # 소문자로 변환\n",
    "    text = text.lower()\n",
    "    \n",
    "    # stopwords 제거\n",
    "    text = \" \".join([word for word in text.split() if word not in stop_words])\n",
    "    \n",
    "    return text\n",
    "\n",
    "train_df[\"preprocessed_text\"] = train_df[\"text\"].apply(preprocess_text)\n",
    "test_df[\"preprocessed_text\"] = test_df[\"text\"].apply(preprocess_text)\n"
   ]
  },
  {
   "cell_type": "markdown",
   "metadata": {},
   "source": [
    "# Dataset 클래스"
   ]
  },
  {
   "cell_type": "code",
   "execution_count": null,
   "metadata": {},
   "outputs": [],
   "source": [
    "!pip install transformers"
   ]
  },
  {
   "cell_type": "code",
   "execution_count": null,
   "metadata": {},
   "outputs": [],
   "source": [
    "from torch.utils.data import Dataset\n",
    "from transformers import BertTokenizer\n",
    "\n",
    "class NewsDataset(Dataset):\n",
    "    def __init__(self, dataframe, tokenizer, max_length=512, is_test=False):\n",
    "        self.dataframe = dataframe\n",
    "        self.tokenizer = tokenizer\n",
    "        self.max_length = max_length\n",
    "        self.is_test = is_test\n",
    "        self.encoded_dict = {}\n",
    "        \n",
    "    def __len__(self):\n",
    "        return len(self.dataframe)\n",
    "    \n",
    "    def __getitem__(self, idx):\n",
    "        if idx not in self.encoded_dict:\n",
    "            text = self.dataframe.loc[idx, \"preprocessed_text\"]\n",
    "            self.encoded_dict[idx] = self.tokenizer.encode_plus(\n",
    "                text,\n",
    "                add_special_tokens=True,\n",
    "                max_length=self.max_length,\n",
    "                padding='max_length',\n",
    "                truncation=True,\n",
    "                return_tensors='pt',\n",
    "                return_attention_mask=True\n",
    "            )\n",
    "            \n",
    "        item = {\n",
    "            'input_ids': self.encoded_dict[idx]['input_ids'].squeeze(0),\n",
    "            'attention_mask': self.encoded_dict[idx]['attention_mask'].squeeze(0)\n",
    "        }\n",
    "        \n",
    "        if not self.is_test:\n",
    "            item['labels'] = self.dataframe.loc[idx, 'label']\n",
    "            \n",
    "        return item\n"
   ]
  },
  {
   "cell_type": "markdown",
   "metadata": {},
   "source": [
    "## Dataset, DataLoader"
   ]
  },
  {
   "cell_type": "code",
   "execution_count": null,
   "metadata": {},
   "outputs": [],
   "source": [
    "import torch\n",
    "from torch.utils.data import DataLoader, random_split\n",
    "from transformers import BertTokenizer\n",
    "\n",
    "# Set random seeds\n",
    "random_seed = 42\n",
    "torch.manual_seed(random_seed)\n",
    "\n",
    "# Load tokenizer\n",
    "tokenizer = BertTokenizer.from_pretrained('bert-large-uncased')\n",
    "\n",
    "# Create the datasets\n",
    "train_val_dataset = NewsDataset(train_df, tokenizer)\n",
    "test_dataset = NewsDataset(test_df, tokenizer, is_test=True)\n",
    "\n",
    "# Split the train dataset into train and validation sets\n",
    "train_size = int(0.8 * len(train_val_dataset))\n",
    "valid_size = len(train_val_dataset) - train_size\n",
    "\n",
    "train_dataset, valid_dataset = random_split(train_val_dataset, [train_size, valid_size], generator=torch.Generator().manual_seed(random_seed))\n",
    "\n",
    "# Create DataLoaders\n",
    "train_dataloader = DataLoader(train_dataset, batch_size=4, shuffle=True)\n",
    "valid_dataloader = DataLoader(valid_dataset, batch_size=4, shuffle=False)\n",
    "test_dataloader = DataLoader(test_dataset, batch_size=1, shuffle=False)\n"
   ]
  },
  {
   "cell_type": "markdown",
   "metadata": {},
   "source": [
    "## Model"
   ]
  },
  {
   "cell_type": "code",
   "execution_count": null,
   "metadata": {},
   "outputs": [],
   "source": [
    "from transformers import BertForSequenceClassification\n",
    "\n",
    "model = BertForSequenceClassification.from_pretrained('bert-large-uncased', num_labels=8)\n"
   ]
  },
  {
   "cell_type": "markdown",
   "metadata": {},
   "source": [
    "## criterion, optimizer, metric"
   ]
  },
  {
   "cell_type": "code",
   "execution_count": null,
   "metadata": {},
   "outputs": [],
   "source": [
    "from transformers import AdamW\n",
    "from torch import nn\n",
    "from sklearn.metrics import f1_score\n",
    "\n",
    "# Criterion\n",
    "criterion = nn.CrossEntropyLoss()\n",
    "\n",
    "# Optimizer\n",
    "optimizer = AdamW(model.parameters(), lr=1e-5, weight_decay=2e-2)\n",
    "\n",
    "# Metric\n",
    "def macro_f1_score(true_labels, predicted_labels):\n",
    "    return f1_score(true_labels, predicted_labels, average='macro')\n"
   ]
  },
  {
   "cell_type": "markdown",
   "metadata": {},
   "source": [
    "## Train loop"
   ]
  },
  {
   "cell_type": "code",
   "execution_count": null,
   "metadata": {},
   "outputs": [],
   "source": [
    "import tqdm\n",
    "import wandb\n",
    "\n",
    "# Initialize wandb\n",
    "wandb.init(project='Dacon_GPT', name='bert_large_uncased')\n",
    "\n",
    "# Send model and hyperparameters to wandb\n",
    "wandb.watch(model, log=\"all\", log_freq=10)\n",
    "wandb.config.epochs = 3\n",
    "wandb.config.lr = 1e-5\n",
    "wandb.config.weight_decay = 2e-2\n",
    "wandb.config.batch_size = 8\n",
    "\n",
    "# Move the model to GPU if available\n",
    "device = torch.device('cuda' if torch.cuda.is_available() else 'cpu')\n",
    "model.to(device)\n",
    "\n",
    "# Train and validation loop\n",
    "for epoch in range(3):\n",
    "    model.train()\n",
    "    train_loss = 0.0\n",
    "    for batch in tqdm.tqdm(train_dataloader):\n",
    "        optimizer.zero_grad()\n",
    "        input_ids, attention_mask, labels = batch['input_ids'].to(device), batch['attention_mask'].to(device), batch['labels'].to(device)\n",
    "        outputs = model(input_ids, attention_mask=attention_mask)\n",
    "        loss = criterion(outputs.logits, labels)\n",
    "        loss.backward()\n",
    "        optimizer.step()\n",
    "        train_loss += loss.item()\n",
    "        wandb.log({'train_loss': loss.item()})\n",
    "        tqdm.tqdm.set_postfix(train_loss=train_loss / (len(train_dataloader)))\n",
    "    \n",
    "    model.eval()\n",
    "    valid_loss = 0.0\n",
    "    true_labels = []\n",
    "    predicted_labels = []\n",
    "    with torch.no_grad():\n",
    "        for batch in tqdm.tqdm(valid_dataloader):\n",
    "            input_ids, attention_mask, labels = batch['input_ids'].to(device), batch['attention_mask'].to(device), batch['labels'].to(device)\n",
    "            outputs = model(input_ids, attention_mask=attention_mask)\n",
    "            loss = criterion(outputs.logits, labels)\n",
    "            valid_loss += loss.item()\n",
    "            wandb.log({'valid_loss': loss.item()})\n",
    "            tqdm.tqdm.set_postfix(valid_loss=valid_loss / (len(valid_dataloader)))\n",
    "            \n",
    "            true_labels.extend(labels.cpu().numpy())\n",
    "            predicted_labels.extend(torch.argmax(outputs.logits, dim=1).cpu().numpy())\n",
    "            \n",
    "    valid_f1 = macro_f1_score(true_labels, predicted_labels)\n",
    "    wandb.log({'valid_f1': valid_f1})\n",
    "    \n",
    "    print(f\"Epoch {epoch + 1}, Train Loss: {train_loss / len(train_dataloader)}, Valid Loss: {valid_loss / len(valid_dataloader)}, Valid Macro F1: {valid_f1}\")\n"
   ]
  },
  {
   "cell_type": "markdown",
   "metadata": {},
   "source": [
    "## validation 예측 결과 저장"
   ]
  },
  {
   "cell_type": "code",
   "execution_count": null,
   "metadata": {},
   "outputs": [],
   "source": [
    "import csv\n",
    "\n",
    "# Save true labels and predicted labels to a CSV file after training\n",
    "with open('validation_results.csv', 'w', newline='') as csvfile:\n",
    "    csv_writer = csv.writer(csvfile)\n",
    "    csv_writer.writerow(['true_label', 'predicted_label'])\n",
    "    for true_label, pred_label in zip(true_labels, predicted_labels):\n",
    "        csv_writer.writerow([true_label, pred_label])\n"
   ]
  }
 ],
 "metadata": {
  "kernelspec": {
   "display_name": "Python 3.9.12 ('base')",
   "language": "python",
   "name": "python3"
  },
  "language_info": {
   "name": "python",
   "version": "3.9.12"
  },
  "orig_nbformat": 4,
  "vscode": {
   "interpreter": {
    "hash": "7fecef7fb14ad1d71e869da5296badaba2a50d2b864b0443ebcc6afac654c29b"
   }
  }
 },
 "nbformat": 4,
 "nbformat_minor": 2
}
