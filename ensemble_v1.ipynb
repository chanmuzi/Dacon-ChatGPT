{
 "cells": [
  {
   "cell_type": "markdown",
   "metadata": {},
   "source": [
    "## Load submission files"
   ]
  },
  {
   "cell_type": "code",
   "execution_count": 3,
   "metadata": {},
   "outputs": [],
   "source": [
    "import pandas as pd\n",
    "import numpy as np\n",
    "\n",
    "# Load the submission files\n",
    "version_numbers = [2, 9, 20, '24_hard_voting']\n",
    "submissions = []\n",
    "for v in version_numbers:\n",
    "    file_name = f'submissions/submission_v{v}.csv' if isinstance(v, int) else f'submissions/submission_v{v}.csv'\n",
    "    submission = pd.read_csv(file_name)\n",
    "    submissions.append(submission)"
   ]
  },
  {
   "cell_type": "markdown",
   "metadata": {},
   "source": [
    "## Calculate F1 score"
   ]
  },
  {
   "cell_type": "code",
   "execution_count": 4,
   "metadata": {},
   "outputs": [],
   "source": [
    "# Replace the following list with the actual F1 macro scores for each model\n",
    "f1_macro_scores = [0.604292704, 0.5999046962, 0.5882138172, 0.6165329653]\n",
    "\n",
    "# Calculate weights based on F1 macro scores\n",
    "weights = np.array(f1_macro_scores) / sum(f1_macro_scores)"
   ]
  },
  {
   "cell_type": "markdown",
   "metadata": {},
   "source": [
    "## Ensemble based on calculated weights"
   ]
  },
  {
   "cell_type": "code",
   "execution_count": 5,
   "metadata": {},
   "outputs": [],
   "source": [
    "# Get the class labels\n",
    "class_labels = submissions[0].columns[1:]\n",
    "\n",
    "# Initialize the final ensemble DataFrame\n",
    "ensemble_df = submissions[0][['id']]\n",
    "\n",
    "# Ensemble the predictions using the weights\n",
    "for label in class_labels:\n",
    "    ensemble_df[label] = 0\n",
    "    for i, submission in enumerate(submissions):\n",
    "        ensemble_df[label] += submission[label] * weights[i]"
   ]
  },
  {
   "cell_type": "markdown",
   "metadata": {},
   "source": [
    "## Save file"
   ]
  },
  {
   "cell_type": "code",
   "execution_count": 7,
   "metadata": {},
   "outputs": [],
   "source": [
    "# Save the ensembled predictions to a new CSV file\n",
    "ensemble_df.to_csv('submissions/ensemble_submission.csv', index=False)"
   ]
  },
  {
   "cell_type": "code",
   "execution_count": null,
   "metadata": {},
   "outputs": [],
   "source": []
  }
 ],
 "metadata": {
  "kernelspec": {
   "display_name": "Python 3.9.12 ('base')",
   "language": "python",
   "name": "python3"
  },
  "language_info": {
   "codemirror_mode": {
    "name": "ipython",
    "version": 3
   },
   "file_extension": ".py",
   "mimetype": "text/x-python",
   "name": "python",
   "nbconvert_exporter": "python",
   "pygments_lexer": "ipython3",
   "version": "3.9.12"
  },
  "orig_nbformat": 4,
  "vscode": {
   "interpreter": {
    "hash": "7fecef7fb14ad1d71e869da5296badaba2a50d2b864b0443ebcc6afac654c29b"
   }
  }
 },
 "nbformat": 4,
 "nbformat_minor": 2
}
