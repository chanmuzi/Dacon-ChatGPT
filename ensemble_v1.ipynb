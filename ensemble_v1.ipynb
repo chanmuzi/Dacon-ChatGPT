{
 "cells": [
  {
   "cell_type": "markdown",
   "metadata": {},
   "source": [
    "## Load submission files"
   ]
  },
  {
   "cell_type": "code",
   "execution_count": null,
   "metadata": {},
   "outputs": [],
   "source": [
    "import pandas as pd\n",
    "import numpy as np\n",
    "\n",
    "# Load the submission files\n",
    "version_numbers = [2, 9, 20, 24]\n",
    "submissions = []\n",
    "for v in version_numbers:\n",
    "    submission = pd.read_csv(f'submission/submission_v{v}.csv')\n",
    "    submissions.append(submission)"
   ]
  },
  {
   "cell_type": "markdown",
   "metadata": {},
   "source": [
    "## Calculate F1 score"
   ]
  },
  {
   "cell_type": "code",
   "execution_count": null,
   "metadata": {},
   "outputs": [],
   "source": [
    "# Replace the following list with the actual F1 macro scores for each model\n",
    "f1_macro_scores = [0.604292704, 0.5999046962, 0.5882138172, 0.6165329653]\n",
    "\n",
    "# Calculate weights based on F1 macro scores\n",
    "weights = np.array(f1_macro_scores) / sum(f1_macro_scores)"
   ]
  },
  {
   "cell_type": "markdown",
   "metadata": {},
   "source": [
    "## Ensemble based on calculated weights"
   ]
  },
  {
   "cell_type": "code",
   "execution_count": null,
   "metadata": {},
   "outputs": [],
   "source": [
    "# Get the class labels\n",
    "class_labels = submissions[0].columns[1:]\n",
    "\n",
    "# Initialize the final ensemble DataFrame\n",
    "ensemble_df = submissions[0][['id']]\n",
    "\n",
    "# Ensemble the predictions using the weights\n",
    "for label in class_labels:\n",
    "    ensemble_df[label] = 0\n",
    "    for i, submission in enumerate(submissions):\n",
    "        ensemble_df[label] += submission[label] * weights[i]"
   ]
  }
 ],
 "metadata": {
  "language_info": {
   "name": "python"
  },
  "orig_nbformat": 4
 },
 "nbformat": 4,
 "nbformat_minor": 2
}
