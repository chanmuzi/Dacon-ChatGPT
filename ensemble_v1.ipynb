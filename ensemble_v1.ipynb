{
 "cells": [
  {
   "cell_type": "markdown",
   "metadata": {},
   "source": [
    "## Load submission files"
   ]
  },
  {
   "cell_type": "code",
   "execution_count": null,
   "metadata": {},
   "outputs": [],
   "source": [
    "import pandas as pd\n",
    "import numpy as np\n",
    "\n",
    "# Load the submission files\n",
    "version_numbers = [2, 9, 20, 24]\n",
    "submissions = []\n",
    "for v in version_numbers:\n",
    "    submission = pd.read_csv(f'submission/submission_v{v}.csv')\n",
    "    submissions.append(submission)"
   ]
  }
 ],
 "metadata": {
  "language_info": {
   "name": "python"
  },
  "orig_nbformat": 4
 },
 "nbformat": 4,
 "nbformat_minor": 2
}
