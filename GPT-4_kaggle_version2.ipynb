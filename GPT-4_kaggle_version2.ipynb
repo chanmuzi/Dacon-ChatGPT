{
 "cells": [
  {
   "cell_type": "markdown",
   "metadata": {},
   "source": [
    "## 구글 드라이브 파일 다운로드"
   ]
  },
  {
   "cell_type": "code",
   "execution_count": null,
   "metadata": {},
   "outputs": [],
   "source": [
    "!pip install gdown"
   ]
  },
  {
   "cell_type": "code",
   "execution_count": null,
   "metadata": {},
   "outputs": [],
   "source": [
    "!gdown --id 14Wpnt6DPX93rtcH0RsvFZ3eFgtoA1K8K\n",
    "!gdown --id 1AMiOTLuAqRgtZ624TfTHwW7fSSS5GbCh"
   ]
  },
  {
   "cell_type": "markdown",
   "metadata": {},
   "source": [
    "## 파일 불러오기"
   ]
  },
  {
   "cell_type": "code",
   "execution_count": null,
   "metadata": {},
   "outputs": [],
   "source": [
    "import pandas as pd\n",
    "\n",
    "train_df = pd.read_csv('/kaggle/working/train.csv')\n",
    "test_df = pd.read_csv('/kaggle/working/test.csv')"
   ]
  },
  {
   "cell_type": "markdown",
   "metadata": {},
   "source": [
    "## 전처리"
   ]
  },
  {
   "cell_type": "code",
   "execution_count": null,
   "metadata": {},
   "outputs": [],
   "source": [
    "import re\n",
    "import string\n",
    "import nltk\n",
    "from nltk.corpus import stopwords\n",
    "\n",
    "nltk.download('stopwords')\n",
    "stop_words = set(stopwords.words('english'))\n",
    "\n",
    "def preprocess_text(text):\n",
    "    # 특수 문자 제거\n",
    "    text = re.sub(f\"[{string.punctuation}]\", \" \", text)\n",
    "    \n",
    "    # 소문자로 변환\n",
    "    text = text.lower()\n",
    "    \n",
    "    # stopwords 제거\n",
    "    text = \" \".join([word for word in text.split() if word not in stop_words])\n",
    "    \n",
    "    return text\n",
    "\n",
    "train_df[\"preprocessed_text\"] = train_df[\"text\"].apply(preprocess_text)\n",
    "test_df[\"preprocessed_text\"] = test_df[\"text\"].apply(preprocess_text)\n"
   ]
  },
  {
   "cell_type": "markdown",
   "metadata": {},
   "source": [
    "# Dataset 클래스"
   ]
  },
  {
   "cell_type": "code",
   "execution_count": null,
   "metadata": {},
   "outputs": [],
   "source": [
    "!pip install transformers"
   ]
  },
  {
   "cell_type": "code",
   "execution_count": null,
   "metadata": {},
   "outputs": [],
   "source": [
    "from torch.utils.data import Dataset\n",
    "from transformers import BertTokenizer\n",
    "\n",
    "class NewsDataset(Dataset):\n",
    "    def __init__(self, dataframe, tokenizer, max_length=512, is_test=False):\n",
    "        self.dataframe = dataframe\n",
    "        self.tokenizer = tokenizer\n",
    "        self.max_length = max_length\n",
    "        self.is_test = is_test\n",
    "        self.encoded_dict = {}\n",
    "        \n",
    "    def __len__(self):\n",
    "        return len(self.dataframe)\n",
    "    \n",
    "    def __getitem__(self, idx):\n",
    "        if idx not in self.encoded_dict:\n",
    "            text = self.dataframe.loc[idx, \"preprocessed_text\"]\n",
    "            self.encoded_dict[idx] = self.tokenizer.encode_plus(\n",
    "                text,\n",
    "                add_special_tokens=True,\n",
    "                max_length=self.max_length,\n",
    "                padding='max_length',\n",
    "                truncation=True,\n",
    "                return_tensors='pt',\n",
    "                return_attention_mask=True\n",
    "            )\n",
    "            \n",
    "        item = {\n",
    "            'input_ids': self.encoded_dict[idx]['input_ids'].squeeze(0),\n",
    "            'attention_mask': self.encoded_dict[idx]['attention_mask'].squeeze(0),\n",
    "            'input_text': self.dataframe.loc[idx, 'text'],  # Add the original text\n",
    "            'index': idx  # Add the index\n",
    "        }\n",
    "        \n",
    "        if not self.is_test:\n",
    "            item['labels'] = self.dataframe.loc[idx, 'label']\n",
    "            \n",
    "        return item\n"
   ]
  },
  {
   "cell_type": "markdown",
   "metadata": {},
   "source": [
    "## Dataset, DataLoader"
   ]
  },
  {
   "cell_type": "code",
   "execution_count": null,
   "metadata": {},
   "outputs": [],
   "source": [
    "import torch\n",
    "from torch.utils.data import DataLoader, random_split\n",
    "from transformers import BertTokenizer\n",
    "\n",
    "# Set random seeds\n",
    "random_seed = 42\n",
    "torch.manual_seed(random_seed)\n",
    "\n",
    "# Load tokenizer\n",
    "tokenizer = BertTokenizer.from_pretrained('bert-large-uncased')\n",
    "\n",
    "# Create the datasets\n",
    "train_val_dataset = NewsDataset(train_df, tokenizer)\n",
    "test_dataset = NewsDataset(test_df, tokenizer, is_test=True)\n",
    "\n",
    "# Split the train dataset into train and validation sets\n",
    "train_size = int(0.8 * len(train_val_dataset))\n",
    "valid_size = len(train_val_dataset) - train_size\n",
    "\n",
    "train_dataset, valid_dataset = random_split(train_val_dataset, [train_size, valid_size], generator=torch.Generator().manual_seed(random_seed))\n",
    "\n",
    "# Create DataLoaders\n",
    "train_dataloader = DataLoader(train_dataset, batch_size=4, shuffle=True)\n",
    "valid_dataloader = DataLoader(valid_dataset, batch_size=4, shuffle=False)\n",
    "test_dataloader = DataLoader(test_dataset, batch_size=4, shuffle=False)  # Updated batch_size to 4\n"
   ]
  },
  {
   "cell_type": "markdown",
   "metadata": {},
   "source": [
    "## Model"
   ]
  },
  {
   "cell_type": "code",
   "execution_count": null,
   "metadata": {},
   "outputs": [],
   "source": [
    "from transformers import BertForSequenceClassification\n",
    "\n",
    "model = BertForSequenceClassification.from_pretrained('bert-large-uncased', num_labels=8)\n"
   ]
  },
  {
   "cell_type": "markdown",
   "metadata": {},
   "source": [
    "## criterion, optimizer, metric"
   ]
  },
  {
   "cell_type": "code",
   "execution_count": null,
   "metadata": {},
   "outputs": [],
   "source": [
    "from transformers import AdamW\n",
    "from torch import nn\n",
    "from sklearn.metrics import f1_score\n",
    "\n",
    "# Criterion\n",
    "criterion = nn.CrossEntropyLoss()\n",
    "\n",
    "# Optimizer\n",
    "optimizer = AdamW(model.parameters(), lr=1e-5, weight_decay=2e-2)\n",
    "\n",
    "# Metric\n",
    "def macro_f1_score(true_labels, predicted_labels):\n",
    "    return f1_score(true_labels, predicted_labels, average='macro')\n"
   ]
  },
  {
   "cell_type": "markdown",
   "metadata": {},
   "source": [
    "## Train loop"
   ]
  },
  {
   "cell_type": "code",
   "execution_count": null,
   "metadata": {},
   "outputs": [],
   "source": [
    "import csv\n",
    "import wandb"
   ]
  },
  {
   "cell_type": "code",
   "execution_count": null,
   "metadata": {},
   "outputs": [],
   "source": [
    "import tqdm\n",
    "import torch\n",
    "import csv\n",
    "from kaggle_secrets import UserSecretsClient\n",
    "import io\n",
    "import os\n",
    "\n",
    "# Wandb login\n",
    "user_secrets = UserSecretsClient()\n",
    "secret_value_0 = user_secrets.get_secret(\"wandb_key\")\n",
    "wandb.login(key=secret_value_0)\n",
    "os.environ[\"WANDB_SILENT\"] = \"true\"\n",
    "wandb.init(project='Dacon_GPT', name='bert_large_uncased_kaggle')\n",
    "\n",
    "# Send model and hyperparameters to wandb\n",
    "wandb.watch(model, log=\"all\", log_freq=10)\n",
    "wandb.config.epochs = 3\n",
    "wandb.config.lr = 1e-5\n",
    "wandb.config.weight_decay = 2e-2\n",
    "wandb.config.batch_size = 16  # Changed batch_size from 4 to 16\n",
    "\n",
    "# Move the model to GPU if available\n",
    "device = torch.device('cuda' if torch.cuda.is_available() else 'cpu')\n",
    "model.to(device)\n",
    "\n",
    "# Define the number of gradient accumulation steps\n",
    "gradient_accumulation_steps = 4\n",
    "\n",
    "# Train and validation loop\n",
    "for epoch in range(3):\n",
    "    # Train loop\n",
    "    model.train()\n",
    "    train_loss = 0.0\n",
    "    accumulation_steps = 0  # Initialize the accumulation step counter\n",
    "    with tqdm.tqdm(train_dataloader, desc=f\"Epoch {epoch+1}, Train\", leave=False) as progress_bar:\n",
    "        for batch in progress_bar:\n",
    "            optimizer.zero_grad()\n",
    "            input_ids, attention_mask, labels = batch['input_ids'].to(device), batch['attention_mask'].to(device), batch['labels'].to(device)\n",
    "            outputs = model(input_ids, attention_mask=attention_mask)\n",
    "            loss = criterion(outputs.logits, labels)\n",
    "            loss.backward()\n",
    "            \n",
    "            # Accumulate gradients for the specified number of steps\n",
    "            if (accumulation_steps + 1) % gradient_accumulation_steps == 0 or (accumulation_steps + 1) == len(train_dataloader):\n",
    "                optimizer.step()\n",
    "                model.zero_grad()\n",
    "            else:\n",
    "                optimizer.virtual_step()  # Perform a virtual step without updating the model parameters\n",
    "            \n",
    "            accumulation_steps += 1\n",
    "            train_loss += loss.item()\n",
    "            wandb.log({'train_loss': loss.item()})\n",
    "            progress_bar.set_postfix({'loss': train_loss / (len(train_dataloader) // gradient_accumulation_steps)})\n",
    "    \n",
    "    # Validation loop\n",
    "    model.eval()\n",
    "    valid_loss = 0.0\n",
    "    validation_results = []  # Initialize an empty list to store validation results\n",
    "    with torch.no_grad(), tqdm.tqdm(valid_dataloader, desc=f\"Epoch {epoch+1}, Valid\", leave=False) as progress_bar:\n",
    "        for batch in progress_bar:\n",
    "            input_ids, attention_mask, labels = batch['input_ids'].to(device), batch['attention_mask'].to(device), batch['labels'].to(device)\n",
    "            input_text, index = batch['input_text'], batch['index']\n",
    "            outputs = model(input_ids, attention_mask=attention_mask)\n",
    "            loss = criterion(outputs.logits, labels)\n",
    "            valid_loss += loss.item()\n",
    "            wandb.log({'valid_loss': loss.item()})\n",
    "            progress_bar.set_postfix({'loss': valid_loss / (len(valid_dataloader))})\n",
    "            \n",
    "            true_labels = labels.cpu().numpy()\n",
    "            predicted_labels = torch.argmax(outputs.logits, dim=1).cpu().numpy()\n",
    "            \n",
    "            # Store the validation results (text, index, predicted_labels, true_labels)\n",
    "            for text, idx, pred_label, true_label in zip(input_text, index, predicted_labels, true_labels):\n",
    "                validation_results.append((text, idx, pred_label, true_label))\n",
    "    \n",
    "    valid_f1 = macro_f1_score([result[3] for result in validation_results], [result[2] for result in validation_results])\n",
    "    wandb.log({'valid_f1': valid_f1})\n",
    "    \n",
    "    print(f\"Epoch {epoch + 1}, Train Loss: {train_loss / (len(train_dataloader) // gradient_accumulation_steps)}, Valid Loss: {valid_loss / len(valid_dataloader)}, Valid Macro F1: {valid_f1}\")\n",
    "\n",
    "# Save the validation results to a CSV file\n",
    "with open('validation_results.csv', 'w', newline='') as csvfile:\n",
    "    csv_writer = csv.writer(csvfile)\n",
    "    csv_writer.writerow(['text', 'index', 'predicted_label', 'true_label'])\n",
    "    for result in validation_results:\n",
    "        csv_writer.writerow(result)"
   ]
  },
  {
   "cell_type": "markdown",
   "metadata": {},
   "source": [
    "## 추론"
   ]
  },
  {
   "cell_type": "code",
   "execution_count": null,
   "metadata": {},
   "outputs": [],
   "source": [
    "# Test loop\n",
    "model.eval()\n",
    "test_results = []  # Initialize an empty list to store test results\n",
    "with torch.no_grad(), tqdm.tqdm(test_dataloader, desc=\"Test\", leave=False) as progress_bar:\n",
    "    for batch in progress_bar:\n",
    "        input_ids, attention_mask = batch['input_ids'].to(device), batch['attention_mask'].to(device)\n",
    "        index = batch['index']\n",
    "        outputs = model(input_ids, attention_mask=attention_mask)\n",
    "        \n",
    "        predicted_labels = torch.argmax(outputs.logits, dim=1).cpu().numpy()\n",
    "        \n",
    "        # Store the test results (index, predicted_labels)\n",
    "        for idx, pred_label in zip(index, predicted_labels):\n",
    "            test_results.append((idx, pred_label))\n",
    "\n",
    "# Save the test results to a CSV file\n",
    "with open('submission.csv', 'w', newline='') as csvfile:\n",
    "    csv_writer = csv.writer(csvfile)\n",
    "    csv_writer.writerow(['id', 'label'])\n",
    "    for result in test_results:\n",
    "        csv_writer.writerow(result)\n"
   ]
  }
 ],
 "metadata": {
  "kernelspec": {
   "display_name": "Python 3.9.12 ('base')",
   "language": "python",
   "name": "python3"
  },
  "language_info": {
   "name": "python",
   "version": "3.9.12"
  },
  "orig_nbformat": 4,
  "vscode": {
   "interpreter": {
    "hash": "7fecef7fb14ad1d71e869da5296badaba2a50d2b864b0443ebcc6afac654c29b"
   }
  }
 },
 "nbformat": 4,
 "nbformat_minor": 2
}
