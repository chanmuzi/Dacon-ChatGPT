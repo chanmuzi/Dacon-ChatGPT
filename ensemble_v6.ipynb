{
 "cells": [
  {
   "cell_type": "code",
   "execution_count": null,
   "metadata": {},
   "outputs": [],
   "source": [
    "import pandas as pd\n",
    "import numpy as np\n",
    "\n",
    "def get_class_labels(ensemble_probs):\n",
    "    return ensemble_probs.idxmax(axis=1).astype(int)\n",
    "\n",
    "def save_ensembled_predictions(ids, ensemble_labels, output_file):\n",
    "    ensemble_df = pd.DataFrame({'id': ids, 'label': ensemble_labels})\n",
    "    ensemble_df.to_csv(output_file, index=False)\n",
    "\n",
    "# Load the best weighted ensemble submission\n",
    "best_weighted_submission = pd.read_csv('submissions/ensemble_submission_v1.csv')\n",
    "best_hard_voting_submission = pd.read_csv('submissions/ensemble_submission_v2.csv')\n",
    "\n",
    "num_classes = len(best_weighted_submission['label'].unique())\n",
    "\n",
    "# Convert the best weighted ensemble labels to probabilities\n",
    "best_weighted_probs = pd.get_dummies(best_weighted_submission['label']).astype(float)\n",
    "for _class in range(num_classes):\n",
    "    if _class not in best_weighted_probs.columns:\n",
    "        best_weighted_probs[_class] = 0\n",
    "best_weighted_probs = best_weighted_probs[sorted(best_weighted_probs.columns)]\n",
    "\n",
    "# Convert the best hard voting ensemble labels to probabilities\n",
    "best_hard_voting_probs = pd.get_dummies(best_hard_voting_submission['label']).astype(float)\n",
    "for _class in range(num_classes):\n",
    "    if _class not in best_hard_voting_probs.columns:\n",
    "        best_hard_voting_probs[_class] = 0\n",
    "best_hard_voting_probs = best_hard_voting_probs[sorted(best_hard_voting_probs.columns)]\n",
    "\n",
    "# Average the probabilities from the two best ensembles\n",
    "final_probs = (best_weighted_probs + best_hard_voting_probs) / 2\n",
    "\n",
    "# Get the final predictions\n",
    "final_labels = get_class_labels(final_probs)\n",
    "\n",
    "# Save the final predictions\n",
    "ids = best_weighted_submission['id']\n",
    "output_file = 'submissions/final_combined_ensemble_submission.csv'\n",
    "save_ensembled_predictions(ids, final_labels, output_file)"
   ]
  }
 ],
 "metadata": {
  "kernelspec": {
   "display_name": "Python 3.9.12 ('base')",
   "language": "python",
   "name": "python3"
  },
  "language_info": {
   "codemirror_mode": {
    "name": "ipython",
    "version": 3
   },
   "file_extension": ".py",
   "mimetype": "text/x-python",
   "name": "python",
   "nbconvert_exporter": "python",
   "pygments_lexer": "ipython3",
   "version": "3.9.12"
  },
  "orig_nbformat": 4,
  "vscode": {
   "interpreter": {
    "hash": "7fecef7fb14ad1d71e869da5296badaba2a50d2b864b0443ebcc6afac654c29b"
   }
  }
 },
 "nbformat": 4,
 "nbformat_minor": 2
}
