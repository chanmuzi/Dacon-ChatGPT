{
 "cells": [
  {
   "cell_type": "markdown",
   "metadata": {},
   "source": [
    "## 구글 드라이브 파일 다운로드"
   ]
  },
  {
   "cell_type": "code",
   "execution_count": null,
   "metadata": {},
   "outputs": [],
   "source": [
    "!pip install gdown"
   ]
  },
  {
   "cell_type": "code",
   "execution_count": null,
   "metadata": {},
   "outputs": [],
   "source": [
    "!gdown --id 14Wpnt6DPX93rtcH0RsvFZ3eFgtoA1K8K\n",
    "!gdown --id 1AMiOTLuAqRgtZ624TfTHwW7fSSS5GbCh\n",
    "!gdown --id 1CeRbGPXPm9RCsFe13eyoBe0N-wKw2DLg"
   ]
  },
  {
   "cell_type": "markdown",
   "metadata": {},
   "source": [
    "## 파일 불러오기"
   ]
  },
  {
   "cell_type": "code",
   "execution_count": null,
   "metadata": {},
   "outputs": [],
   "source": [
    "import pandas as pd\n",
    "\n",
    "# train.csv 파일 불러오기\n",
    "train_df = pd.read_csv('/kaggle/working/train.csv')\n",
    "\n",
    "# test.csv 파일 불러오기\n",
    "test_df = pd.read_csv('/kaggle/working/test.csv')"
   ]
  },
  {
   "cell_type": "markdown",
   "metadata": {},
   "source": [
    "## 전처리"
   ]
  },
  {
   "cell_type": "code",
   "execution_count": null,
   "metadata": {},
   "outputs": [],
   "source": [
    "import re\n",
    "import string\n",
    "import nltk\n",
    "from nltk.corpus import stopwords\n",
    "\n",
    "nltk.download('stopwords')\n",
    "stop_words = set(stopwords.words('english'))\n",
    "\n",
    "def preprocess_text(text):\n",
    "    # 특수 문자 제거\n",
    "    text = re.sub(f\"[{string.punctuation}]\", \" \", text)\n",
    "    \n",
    "    # 소문자로 변환\n",
    "    text = text.lower()\n",
    "    \n",
    "    # stopwords 제거\n",
    "    text = \" \".join([word for word in text.split() if word not in stop_words])\n",
    "    \n",
    "    return text\n",
    "\n",
    "train_df[\"preprocessed_text\"] = train_df[\"text\"].apply(preprocess_text)\n",
    "test_df[\"preprocessed_text\"] = test_df[\"text\"].apply(preprocess_text)"
   ]
  },
  {
   "cell_type": "markdown",
   "metadata": {},
   "source": [
    "## Dataset 클래스"
   ]
  },
  {
   "cell_type": "code",
   "execution_count": null,
   "metadata": {},
   "outputs": [],
   "source": [
    "!pip install transformers"
   ]
  },
  {
   "cell_type": "code",
   "execution_count": null,
   "metadata": {},
   "outputs": [],
   "source": [
    "from torch.utils.data import Dataset\n",
    "from transformers import XLNetTokenizer\n",
    "\n",
    "class NewsDataset(Dataset):\n",
    "    def __init__(self, dataframe, tokenizer, max_length=512, is_test=False):\n",
    "        self.dataframe = dataframe\n",
    "        self.tokenizer = tokenizer\n",
    "        self.max_length = max_length\n",
    "        self.is_test = is_test\n",
    "        self.encoded_dict = {}\n",
    "        \n",
    "    def __len__(self):\n",
    "        return len(self.dataframe)\n",
    "    \n",
    "    def __getitem__(self, idx):\n",
    "        if idx not in self.encoded_dict:\n",
    "            text = self.dataframe.loc[idx, \"preprocessed_text\"]\n",
    "            self.encoded_dict[idx] = self.tokenizer.encode_plus(\n",
    "                text,\n",
    "                add_special_tokens=True,\n",
    "                max_length=self.max_length,\n",
    "                padding='max_length',\n",
    "                truncation=True,\n",
    "                return_tensors='pt',\n",
    "                return_attention_mask=True,\n",
    "                return_token_type_ids=True,  # Add token_type_ids\n",
    "                lowercase=True,  # Use lowercase option\n",
    "            )\n",
    "            \n",
    "        item = {\n",
    "            'input_ids': self.encoded_dict[idx]['input_ids'].view(-1),\n",
    "            'attention_mask': self.encoded_dict[idx]['attention_mask'].view(-1),\n",
    "            'token_type_ids': self.encoded_dict[idx]['token_type_ids'].view(-1),  # Add token_type_ids\n",
    "            'input_text': self.dataframe.loc[idx, 'text'],  # Add the original text\n",
    "            'index': idx  # Add the index\n",
    "        }\n",
    "        \n",
    "        if not self.is_test:\n",
    "            item['labels'] = self.dataframe.loc[idx, 'label']\n",
    "            \n",
    "        return item"
   ]
  },
  {
   "cell_type": "markdown",
   "metadata": {},
   "source": [
    "## Dataset, DataLoader"
   ]
  },
  {
   "cell_type": "code",
   "execution_count": null,
   "metadata": {},
   "outputs": [],
   "source": [
    "import torch\n",
    "from torch.utils.data import DataLoader\n",
    "from transformers import XLNetTokenizer\n",
    "from sklearn.model_selection import train_test_split\n",
    "\n",
    "import random\n",
    "import numpy as np\n",
    "\n",
    "# Set random seeds for reproducibility\n",
    "random_seed = 42\n",
    "random.seed(random_seed)\n",
    "np.random.seed(random_seed)\n",
    "torch.manual_seed(random_seed)\n",
    "if torch.cuda.is_available():\n",
    "    torch.cuda.manual_seed_all(random_seed)\n",
    "\n",
    "# Load tokenizer\n",
    "tokenizer = XLNetTokenizer.from_pretrained('xlnet-base-cased')\n",
    "\n",
    "# Create the datasets\n",
    "train_data, val_data = train_test_split(train_df, test_size=0.2, stratify=train_df['label'], random_state=random_seed)\n",
    "\n",
    "# Reset the index of the new dataframes\n",
    "train_data = train_data.reset_index(drop=True)\n",
    "val_data = val_data.reset_index(drop=True)\n",
    "\n",
    "batch_size = 32  # Increase batch size for better memory usage\n",
    "\n",
    "train_dataset = NewsDataset(train_data, tokenizer, max_length=512)\n",
    "valid_dataset = NewsDataset(val_data, tokenizer, max_length=512)\n",
    "test_dataset = NewsDataset(test_df, tokenizer, max_length=512, is_test=True)\n",
    "\n",
    "# Create DataLoaders\n",
    "train_dataloader = DataLoader(train_dataset, batch_size=batch_size, shuffle=True)\n",
    "valid_dataloader = DataLoader(valid_dataset, batch_size=batch_size, shuffle=False)\n",
    "test_dataloader = DataLoader(test_dataset, batch_size=batch_size, shuffle=False)"
   ]
  },
  {
   "cell_type": "markdown",
   "metadata": {},
   "source": [
    "## Model"
   ]
  },
  {
   "cell_type": "code",
   "execution_count": null,
   "metadata": {},
   "outputs": [],
   "source": [
    "from transformers import XLNetConfig, XLNetForSequenceClassification\n",
    "\n",
    "config = XLNetConfig.from_pretrained('xlnet-base-cased')\n",
    "config.num_labels = 8\n",
    "\n",
    "model = XLNetForSequenceClassification.from_pretrained(\n",
    "    'xlnet-base-cased',\n",
    "    config=config\n",
    ")"
   ]
  },
  {
   "cell_type": "markdown",
   "metadata": {},
   "source": [
    "## criterion, optimizer, metric"
   ]
  },
  {
   "cell_type": "code",
   "execution_count": null,
   "metadata": {},
   "outputs": [],
   "source": [
    "from transformers import AdamW\n",
    "from torch import nn\n",
    "from sklearn.metrics import f1_score\n",
    "\n",
    "# Criterion\n",
    "criterion = nn.CrossEntropyLoss()\n",
    "\n",
    "# Optimizer\n",
    "learning_rate = 2e-5  # Decreased learning rate for better performance\n",
    "weight_decay = 0.01  # Changed weight decay for better regularization\n",
    "optimizer = AdamW(model.parameters(), lr=learning_rate, weight_decay=weight_decay)\n",
    "\n",
    "# Metric\n",
    "def macro_f1_score(true_labels, predicted_labels):\n",
    "    return f1_score(true_labels, predicted_labels, average='macro')"
   ]
  },
  {
   "cell_type": "markdown",
   "metadata": {},
   "source": [
    "## Train loop"
   ]
  },
  {
   "cell_type": "code",
   "execution_count": null,
   "metadata": {},
   "outputs": [],
   "source": [
    "import csv\n",
    "import wandb\n",
    "from tqdm import tqdm"
   ]
  },
  {
   "cell_type": "code",
   "execution_count": null,
   "metadata": {},
   "outputs": [],
   "source": [
    "import wandb\n",
    "import io\n",
    "import os\n",
    "\n",
    "from kaggle_secrets import UserSecretsClient\n",
    "\n",
    "# Wandb login\n",
    "user_secrets = UserSecretsClient()\n",
    "secret_value_0 = user_secrets.get_secret(\"wandb_key\")\n",
    "wandb.login(key=secret_value_0)\n",
    "os.environ[\"WANDB_SILENT\"] = \"true\"\n",
    "\n",
    "# Initialize Wandb\n",
    "wandb.init(project='Dacon_GPT', name='xlnet-base-cased')\n",
    "\n",
    "# Send model and hyperparameters to wandb\n",
    "wandb.watch(model, log=\"all\")\n",
    "wandb.config.epochs = 4\n",
    "wandb.config.lr = 2e-5\n",
    "wandb.config.weight_decay = 0.01\n",
    "wandb.config.batch_size = 32  # Increase batch size for better memory usage\n",
    "\n",
    "# Move the model to GPU if available\n",
    "device = torch.device('cuda' if torch.cuda.is_available() else 'cpu')\n",
    "model.to(device)"
   ]
  },
  {
   "cell_type": "code",
   "execution_count": null,
   "metadata": {},
   "outputs": [],
   "source": [
    "best_valid_loss = float('inf')\n",
    "best_valid_f1 = float('-inf')\n",
    "patience = 0\n",
    "early_stopping_patience = 5\n",
    "\n",
    "# Train and validation loop\n",
    "for epoch in range(4):\n",
    "    # Train loop\n",
    "    model.train()\n",
    "    train_loss = 0.0\n",
    "    optimizer.zero_grad()  # Reset gradients tensors\n",
    "    \n",
    "    with tqdm(train_dataloader, desc=f\"Epoch {epoch+1}, Train\", leave=False) as train_progress:\n",
    "        for batch_idx, batch in enumerate(train_progress):\n",
    "            input_ids, attention_mask, labels = batch['input_ids'].to(device), batch['attention_mask'].to(device), batch['labels'].to(device)\n",
    "            outputs = model(input_ids, attention_mask=attention_mask)\n",
    "            loss = criterion(outputs[0], labels)\n",
    "            loss.backward()\n",
    "            \n",
    "            optimizer.step() # Do an optimizer step\n",
    "            optimizer.zero_grad() # Reset gradients tensors\n",
    "            \n",
    "            train_loss += loss.item()\n",
    "            train_progress.set_postfix({'loss': train_loss / (batch_idx + 1)})\n",
    "\n",
    "    wandb.log({'train_loss': train_loss / len(train_dataloader)})\n",
    "    \n",
    "    # Validation loop\n",
    "    model.eval()\n",
    "    valid_loss = 0.0\n",
    "    validation_results = []  # Initialize an empty list to store validation results\n",
    "    \n",
    "    with torch.no_grad():\n",
    "        progress_bar = tqdm(valid_dataloader, desc=f\"Epoch {epoch+1}, Valid\", leave=False)\n",
    "        for batch in progress_bar:\n",
    "            input_ids, attention_mask, labels = batch['input_ids'].to(device), batch['attention_mask'].to(device), batch['labels'].to(device)\n",
    "            input_text, index = batch['input_text'], batch['index']\n",
    "            outputs = model(input_ids, attention_mask            =attention_mask)\n",
    "            loss = criterion(outputs.logits, labels)\n",
    "            valid_loss += loss.item()\n",
    "\n",
    "            progress_bar.set_postfix({'loss': valid_loss / (len(valid_dataloader))})\n",
    "\n",
    "            true_labels = labels.cpu().numpy()\n",
    "            predicted_labels = torch.argmax(outputs.logits, dim=1).cpu().numpy()\n",
    "\n",
    "            # Store the validation results (text, index, predicted_labels, true_labels)\n",
    "            for text, idx, pred_label, true_label in zip(input_text, index, predicted_labels, true_labels):\n",
    "                validation_results.append((text, idx, pred_label, true_label))\n",
    "\n",
    "        valid_loss /= len(valid_dataloader)\n",
    "        valid_f1 = macro_f1_score([result[3] for result in validation_results], [result[2] for result in validation_results])\n",
    "        wandb.log({'valid_loss': valid_loss, 'valid_f1': valid_f1})\n",
    "        \n",
    "        if valid_loss < best_valid_loss and valid_f1 > best_valid_f1:\n",
    "            best_valid_loss = valid_loss\n",
    "            best_valid_f1 = valid_f1\n",
    "            torch.save(model.state_dict(), 'best_model_state.bin')\n",
    "            patience = 0\n",
    "        else:\n",
    "            patience += 1\n",
    "            if patience >= early_stopping_patience:\n",
    "                break\n",
    "                \n",
    "    wandb.log({'valid_loss': valid_loss, 'valid_f1': valid_f1})\n",
    "    print(f\"Epoch {epoch + 1}, Valid Loss: {valid_loss}, Valid Macro F1: {valid_f1}\")\n",
    "\n",
    "    if patience >= early_stopping_patience:\n",
    "        break\n",
    "\n",
    "# Delete cache\n",
    "torch.cuda.empty_cache()"
   ]
  },
  {
   "cell_type": "markdown",
   "metadata": {},
   "source": [
    "### validation.csv"
   ]
  },
  {
   "cell_type": "code",
   "execution_count": null,
   "metadata": {},
   "outputs": [],
   "source": [
    "csv_filename = f\"validation_results_{wandb.run.name}.csv\"\n",
    "with open(csv_filename, 'w', newline='') as csvfile:\n",
    "    csv_writer = csv.writer(csvfile)\n",
    "    csv_writer.writerow(['text', 'index', 'predicted_label', 'true_label'])\n",
    "    for result in validation_results:\n",
    "        csv_writer.writerow(result)\n",
    "        \n",
    "# Log the CSV file to wandb\n",
    "artifact = wandb.Artifact('validation_results', type='dataset')\n",
    "artifact.add_file(csv_filename)\n",
    "wandb.log_artifact(artifact)"
   ]
  },
  {
   "cell_type": "markdown",
   "metadata": {},
   "source": [
    "## 추론"
   ]
  },
  {
   "cell_type": "code",
   "execution_count": null,
   "metadata": {},
   "outputs": [],
   "source": [
    "model.load_state_dict(torch.load('/kaggle/working/best_model_state.bin'))\n",
    "\n",
    "# Test loop\n",
    "model.eval()\n",
    "test_results = []  # Initialize an empty list to store test results\n",
    "with torch.no_grad(), tqdm(test_dataloader, desc=\"Test\", leave=False) as progress_bar:\n",
    "    for batch in progress_bar:\n",
    "        input_ids, attention_mask = batch['input_ids'].to(device), batch['attention_mask'].to(device)\n",
    "        outputs = model(input_ids, attention_mask=attention_mask)\n",
    "        predicted_labels = torch.argmax(outputs[0], dim=1).cpu().tolist()\n",
    "        test_results.extend(predicted_labels)\n",
    "\n",
    "# Load the sample submission file\n",
    "submission_df = pd.read_csv('/kaggle/working/sample_submission.csv')\n",
    "\n",
    "# Overwrite the label column with the test_results\n",
    "submission_df['label'] = test_results\n",
    "\n",
    "# Save the updated submission file to a CSV file\n",
    "submission_df.to_csv('submission.csv', index=False)"
   ]
  }
 ],
 "metadata": {
  "kernelspec": {
   "display_name": "Python 3.9.12 ('base')",
   "language": "python",
   "name": "python3"
  },
  "language_info": {
   "name": "python",
   "version": "3.9.12"
  },
  "orig_nbformat": 4,
  "vscode": {
   "interpreter": {
    "hash": "7fecef7fb14ad1d71e869da5296badaba2a50d2b864b0443ebcc6afac654c29b"
   }
  }
 },
 "nbformat": 4,
 "nbformat_minor": 2
}
