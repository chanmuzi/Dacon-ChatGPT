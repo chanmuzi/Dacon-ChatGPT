{
 "cells": [
  {
   "cell_type": "code",
   "execution_count": 1,
   "metadata": {},
   "outputs": [],
   "source": [
    "import pandas as pd\n",
    "import numpy as np\n",
    "\n",
    "# Load the submission files\n",
    "version_numbers = [2, 9, 11, 20, '24_hard_voting', '26_soft', '30_soft']\n",
    "submissions = []\n",
    "for v in version_numbers:\n",
    "    file_name = f'submissions/submission_v{v}.csv' if isinstance(v, int) else f'submissions/submission_v{v}.csv'\n",
    "    submission = pd.read_csv(file_name)\n",
    "    submissions.append(submission)\n",
    "\n",
    "# Convert labels to probabilities\n",
    "def convert_labels_to_probabilities(submissions):\n",
    "    num_classes = len(submissions[0]['label'].unique())\n",
    "    submissions_probs = []\n",
    "\n",
    "    for submission in submissions:\n",
    "        label_probs = pd.get_dummies(submission['label']).astype(float)\n",
    "        for _class in range(num_classes):\n",
    "            if _class not in label_probs.columns:\n",
    "                label_probs[_class] = 0\n",
    "        label_probs = label_probs[sorted(label_probs.columns)]\n",
    "        submissions_probs.append(label_probs)\n",
    "    return submissions_probs\n",
    "\n",
    "submissions_probs = convert_labels_to_probabilities(submissions)\n",
    "\n",
    "# Calculate weights based on validation F1 scores\n",
    "validation_f1_scores = [0.9048, 0.912, 0.929, 0.926, 0.8765, 0.9253, 0.9131]\n",
    "weights = np.array(validation_f1_scores) / sum(validation_f1_scores)\n",
    "\n",
    "# Ensemble predictions using the calculated weights\n",
    "def ensemble_predictions(submissions_probs, weights):\n",
    "    ensemble_probs = sum(submission_probs * weight for submission_probs, weight in zip(submissions_probs, weights))\n",
    "    return ensemble_probs\n",
    "\n",
    "ensemble_probs = ensemble_predictions(submissions_probs, weights)\n",
    "\n",
    "# Get class labels from the ensembled probabilities\n",
    "def get_class_labels(ensemble_probs):\n",
    "    return ensemble_probs.idxmax(axis=1).astype(int)\n",
    "\n",
    "ensemble_labels = get_class_labels(ensemble_probs)\n",
    "\n",
    "# Save ensembled predictions to a CSV file\n",
    "def save_ensembled_predictions(ids, ensemble_labels, output_file):\n",
    "    ensemble_df = pd.DataFrame({'id': ids, 'label': ensemble_labels})\n",
    "    ensemble_df.to_csv(output_file, index=False)\n",
    "\n",
    "ids = submissions[0]['id']\n",
    "output_file = 'submissions/ensemble_submission_f1_based.csv'\n",
    "save_ensembled_predictions(ids, ensemble_labels, output_file)\n"
   ]
  },
  {
   "cell_type": "code",
   "execution_count": null,
   "metadata": {},
   "outputs": [],
   "source": []
  }
 ],
 "metadata": {
  "kernelspec": {
   "display_name": "Python 3.9.12 ('base')",
   "language": "python",
   "name": "python3"
  },
  "language_info": {
   "codemirror_mode": {
    "name": "ipython",
    "version": 3
   },
   "file_extension": ".py",
   "mimetype": "text/x-python",
   "name": "python",
   "nbconvert_exporter": "python",
   "pygments_lexer": "ipython3",
   "version": "3.9.12"
  },
  "orig_nbformat": 4,
  "vscode": {
   "interpreter": {
    "hash": "7fecef7fb14ad1d71e869da5296badaba2a50d2b864b0443ebcc6afac654c29b"
   }
  }
 },
 "nbformat": 4,
 "nbformat_minor": 2
}
