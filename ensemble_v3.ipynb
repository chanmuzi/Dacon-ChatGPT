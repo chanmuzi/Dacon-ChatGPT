{
 "cells": [
  {
   "cell_type": "markdown",
   "metadata": {},
   "source": [
    "## Load submission files"
   ]
  },
  {
   "cell_type": "code",
   "execution_count": 12,
   "metadata": {},
   "outputs": [],
   "source": [
    "import pandas as pd\n",
    "import numpy as np\n",
    "\n",
    "# Load the submission files\n",
    "version_numbers = [2, 9, 19, 20, '24_hard_voting']\n",
    "submissions = []\n",
    "for v in version_numbers:\n",
    "    file_name = f'submissions/submission_v{v}.csv' if isinstance(v, int) else f'submissions/submission_v{v}.csv'\n",
    "    submission = pd.read_csv(file_name)\n",
    "    submissions.append(submission)"
   ]
  },
  {
   "cell_type": "markdown",
   "metadata": {},
   "source": [
    "## Convert class labels to probabilities"
   ]
  },
  {
   "cell_type": "code",
   "execution_count": 13,
   "metadata": {},
   "outputs": [],
   "source": [
    "def convert_labels_to_probabilities(submissions):\n",
    "    num_classes = len(submissions[0]['label'].unique())\n",
    "    submissions_probs = []\n",
    "\n",
    "    for submission in submissions:\n",
    "        label_probs = pd.get_dummies(submission['label']).astype(float)\n",
    "        for _class in range(num_classes):\n",
    "            if _class not in label_probs.columns:\n",
    "                label_probs[_class] = 0\n",
    "        label_probs = label_probs[sorted(label_probs.columns)]\n",
    "        submissions_probs.append(label_probs)\n",
    "    return submissions_probs\n",
    "\n",
    "submissions_probs = convert_labels_to_probabilities(submissions)"
   ]
  },
  {
   "cell_type": "markdown",
   "metadata": {},
   "source": [
    "## Calculate F1 score"
   ]
  },
  {
   "cell_type": "code",
   "execution_count": 15,
   "metadata": {},
   "outputs": [],
   "source": [
    "def calculate_weights(f1_macro_scores):\n",
    "    return np.array(f1_macro_scores) / sum(f1_macro_scores)\n",
    "\n",
    "f1_macro_scores = [0.604292704, 0.5999046962, 0.5882138172, 0.6165329653]\n",
    "weights = calculate_weights(f1_macro_scores)"
   ]
  },
  {
   "cell_type": "markdown",
   "metadata": {},
   "source": [
    "## Ensemble based on calculated weights"
   ]
  },
  {
   "cell_type": "code",
   "execution_count": 17,
   "metadata": {},
   "outputs": [],
   "source": [
    "def ensemble_predictions(submissions_probs, weights):\n",
    "    ensemble_probs = sum(submission_probs * weight for submission_probs, weight in zip(submissions_probs, weights))\n",
    "    return ensemble_probs\n",
    "\n",
    "ensemble_probs = ensemble_predictions(submissions_probs, weights)\n",
    "\n",
    "def get_class_labels(ensemble_probs):\n",
    "    return ensemble_probs.idxmax(axis=1).astype(int)\n",
    "\n",
    "ensemble_labels = get_class_labels(ensemble_probs)"
   ]
  },
  {
   "cell_type": "markdown",
   "metadata": {},
   "source": [
    "## Save file"
   ]
  },
  {
   "cell_type": "code",
   "execution_count": 19,
   "metadata": {},
   "outputs": [],
   "source": [
    "def save_ensembled_predictions(ids, ensemble_labels, output_file):\n",
    "    ensemble_df = pd.DataFrame({'id': ids, 'label': ensemble_labels})\n",
    "    ensemble_df.to_csv(output_file, index=False)\n",
    "\n",
    "ids = submissions[0]['id']\n",
    "output_file = 'submissions/ensemble_submission.csv'\n",
    "save_ensembled_predictions(ids, ensemble_labels, output_file)"
   ]
  },
  {
   "cell_type": "code",
   "execution_count": null,
   "metadata": {},
   "outputs": [],
   "source": []
  }
 ],
 "metadata": {
  "kernelspec": {
   "display_name": "Python 3.9.12 ('base')",
   "language": "python",
   "name": "python3"
  },
  "language_info": {
   "codemirror_mode": {
    "name": "ipython",
    "version": 3
   },
   "file_extension": ".py",
   "mimetype": "text/x-python",
   "name": "python",
   "nbconvert_exporter": "python",
   "pygments_lexer": "ipython3",
   "version": "3.9.12"
  },
  "orig_nbformat": 4,
  "vscode": {
   "interpreter": {
    "hash": "7fecef7fb14ad1d71e869da5296badaba2a50d2b864b0443ebcc6afac654c29b"
   }
  }
 },
 "nbformat": 4,
 "nbformat_minor": 2
}
